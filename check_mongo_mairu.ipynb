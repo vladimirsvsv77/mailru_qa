{
 "worksheets": [
  {
   "cells": [
    {
     "cell_type": "code",
     "execution_count": null,
     "metadata": {},
     "outputs": [],
     "input": [
      "from pymongo import MongoClient"
     ],
     "language": "python",
     "prompt_number": 1
    },
    {
     "cell_type": "code",
     "execution_count": null,
     "metadata": {},
     "outputs": [],
     "input": [
      "client = MongoClient()\n",
      "client = MongoClient('localhost', 27017)"
     ],
     "language": "python",
     "prompt_number": 2
    },
    {
     "cell_type": "code",
     "execution_count": null,
     "metadata": {},
     "outputs": [],
     "input": [
      "db = client.mairudata\n",
      "questions = db.mairudata"
     ],
     "language": "python",
     "prompt_number": 29
    },
    {
     "cell_type": "code",
     "execution_count": null,
     "metadata": {},
     "outputs": [
      {
       "stream": "stdout",
       "output_type": "stream",
       "text": [
        "4224\n"
       ]
      }
     ],
     "input": [
      "print(len(list(questions.find())))"
     ],
     "language": "python",
     "prompt_number": 36
    },
    {
     "cell_type": "code",
     "execution_count": null,
     "metadata": {},
     "outputs": [
      {
       "stream": "stdout",
       "output_type": "stream",
       "text": [
        "{'qid': '198155559', '_id': ObjectId('5aa799efb2fa7e2984e44448'), 'answer': 'Ненормально конечно. он ставит условия, на ваше мнение ему все-равно.', 'question': 'Нормально ли парень ведёт себя? после знакомства?'}\n"
       ]
      }
     ],
     "input": [
      "q = list(questions.find())\n",
      "print(q[len(q) - 1])"
     ],
     "language": "python",
     "prompt_number": 35
    },
    {
     "cell_type": "code",
     "execution_count": null,
     "metadata": {},
     "outputs": [],
     "input": [],
     "language": "python"
    }
   ]
  }
 ],
 "cells": [],
 "metadata": {
  "name": "",
  "signature": "sha256:e8aadb8a7d34f9c15c319af0634fb821888ee904cadcc80fbdcb57e6a1e80bba"
 },
 "nbformat": 4,
 "nbformat_minor": 0
}
