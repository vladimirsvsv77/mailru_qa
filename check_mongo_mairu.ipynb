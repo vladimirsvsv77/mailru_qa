{
 "cells": [
  {
   "cell_type": "code",
   "execution_count": 1,
   "metadata": {},
   "outputs": [],
   "source": [
    "from pymongo import MongoClient"
   ]
  },
  {
   "cell_type": "code",
   "execution_count": 2,
   "metadata": {},
   "outputs": [],
   "source": [
    "client = MongoClient()\n",
    "client = MongoClient('localhost', 27017)"
   ]
  },
  {
   "cell_type": "code",
   "execution_count": 3,
   "metadata": {},
   "outputs": [],
   "source": [
    "db = client.mairudata\n",
    "questions = db.mairudata"
   ]
  },
  {
   "cell_type": "code",
   "execution_count": 28,
   "metadata": {},
   "outputs": [
    {
     "name": "stdout",
     "output_type": "stream",
     "text": [
      "3735223\n"
     ]
    }
   ],
   "source": [
    "print(len(list(questions.find())))"
   ]
  },
  {
   "cell_type": "code",
   "execution_count": 9,
   "metadata": {},
   "outputs": [
    {
     "name": "stdout",
     "output_type": "stream",
     "text": [
      "{'qid': '43155566', '_id': ObjectId('5aa6a90db2fa7e0ec3543f0d'), 'answer': 'Я иногда не договариваю, но стараюсь не врать.... ', 'question': 'А ты честный человек, не когда не лжошь???))))))))))))))))))'}\n"
     ]
    }
   ],
   "source": [
    "q = list(questions.find())\n",
    "print(q[len(q) - 1])"
   ]
  },
  {
   "cell_type": "code",
   "execution_count": null,
   "metadata": {},
   "outputs": [],
   "source": []
  }
 ],
 "metadata": {
  "name": "",
  "signature": "sha256:28dfd14a2be6acd6f16af46c81530815bb299150d8ca131e9eecf9b05a5752b2"
 },
 "nbformat": 4,
 "nbformat_minor": 0
}
