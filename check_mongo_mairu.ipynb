{
 "metadata": {
  "name": "",
  "signature": "sha256:3248c3584be0f1edfe84b632bf57bb82ffacab6977acd15a541e7befd9ec2cb3"
 },
 "nbformat": 3,
 "nbformat_minor": 0,
 "worksheets": [
  {
   "cells": [
    {
     "cell_type": "code",
     "collapsed": false,
     "input": [
      "from pymongo import MongoClient"
     ],
     "language": "python",
     "metadata": {},
     "outputs": [],
     "prompt_number": 1
    },
    {
     "cell_type": "code",
     "collapsed": false,
     "input": [
      "client = MongoClient()\n",
      "client = MongoClient('localhost', 27017)"
     ],
     "language": "python",
     "metadata": {},
     "outputs": [],
     "prompt_number": 2
    },
    {
     "cell_type": "code",
     "collapsed": false,
     "input": [
      "db = client.questions\n",
      "questions = db.questions"
     ],
     "language": "python",
     "metadata": {},
     "outputs": [],
     "prompt_number": 3
    },
    {
     "cell_type": "code",
     "collapsed": false,
     "input": [
      "print(len(list(questions.find())))"
     ],
     "language": "python",
     "metadata": {},
     "outputs": [
      {
       "output_type": "stream",
       "stream": "stdout",
       "text": [
        "3735223\n"
       ]
      }
     ],
     "prompt_number": 27
    },
    {
     "cell_type": "code",
     "collapsed": false,
     "input": [
      "q = list(questions.find())\n",
      "print(q[len(q) - 1])"
     ],
     "language": "python",
     "metadata": {},
     "outputs": [
      {
       "output_type": "stream",
       "stream": "stdout",
       "text": [
        "{'qid': '43155566', '_id': ObjectId('5aa6a90db2fa7e0ec3543f0d'), 'answer': '\u042f \u0438\u043d\u043e\u0433\u0434\u0430 \u043d\u0435 \u0434\u043e\u0433\u043e\u0432\u0430\u0440\u0438\u0432\u0430\u044e, \u043d\u043e \u0441\u0442\u0430\u0440\u0430\u044e\u0441\u044c \u043d\u0435 \u0432\u0440\u0430\u0442\u044c.... ', 'question': '\u0410 \u0442\u044b \u0447\u0435\u0441\u0442\u043d\u044b\u0439 \u0447\u0435\u043b\u043e\u0432\u0435\u043a, \u043d\u0435 \u043a\u043e\u0433\u0434\u0430 \u043d\u0435 \u043b\u0436\u043e\u0448\u044c???))))))))))))))))))'}\n"
       ]
      }
     ],
     "prompt_number": 9
    },
    {
     "cell_type": "code",
     "collapsed": false,
     "input": [],
     "language": "python",
     "metadata": {},
     "outputs": []
    }
   ],
   "metadata": {}
  }
 ]
}